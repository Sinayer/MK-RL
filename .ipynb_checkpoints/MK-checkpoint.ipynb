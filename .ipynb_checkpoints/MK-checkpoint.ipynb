{
 "cells": [
  {
   "cell_type": "code",
   "execution_count": 1,
   "id": "f2b8caa4",
   "metadata": {},
   "outputs": [],
   "source": [
    "#!pip install gym==0.21 gym-retro"
   ]
  },
  {
   "cell_type": "code",
   "execution_count": 1,
   "id": "ff14abd6",
   "metadata": {},
   "outputs": [],
   "source": [
    "import retro\n",
    "import time\n",
    "#python -m retro.import ."
   ]
  },
  {
   "cell_type": "code",
   "execution_count": 2,
   "id": "b1430cab",
   "metadata": {},
   "outputs": [],
   "source": [
    "from gym import Env\n",
    "from gym.spaces import MultiBinary, Box\n",
    "import numpy as np\n",
    "import cv2\n",
    "from matplotlib import pyplot as plt"
   ]
  },
  {
   "cell_type": "code",
   "execution_count": 3,
   "id": "5950ff98",
   "metadata": {},
   "outputs": [],
   "source": [
    "#plt.imshow(obs)"
   ]
  },
  {
   "cell_type": "code",
   "execution_count": 4,
   "id": "f90b6cd3",
   "metadata": {},
   "outputs": [],
   "source": [
    "#gray = cv2.cvtColor(obs, cv2.COLOR_BGR2GRAY)"
   ]
  },
  {
   "cell_type": "code",
   "execution_count": 5,
   "id": "d0f84cf8",
   "metadata": {},
   "outputs": [],
   "source": [
    "class MK(Env):\n",
    "    def __init__(self):\n",
    "        super().__init__()\n",
    "        self.observation_space = Box(low = 0, high = 255, shape = (84, 84, 1), dtype = np.uint8)\n",
    "        self.action_space = MultiBinary(12)\n",
    "        self.game = retro.make(game='MortalKombatII-Genesis', use_restricted_actions = retro.Actions.FILTERED)\n",
    "\n",
    "    def step(self, action):\n",
    "        obs, reward, done, info = self.game.step(action)\n",
    "        obs = self.preprocess(obs) \n",
    "        frame_delta = obs - self.previous_frame\n",
    "        self.previous_frame = obs \n",
    "        reward_1 = info['enemy_health'] - self.enemy_health \n",
    "        self.enemy_health = info['enemy_health']\n",
    "        #prueba\n",
    "        reward_2 = info['health'] - self.health \n",
    "        self.health = info['health'] \n",
    "        reward = reward_2 - reward_1 \n",
    "        return frame_delta, reward, done, info\n",
    "    def render(self, *args, **kwargs):\n",
    "        self.game.render()\n",
    "    def reset(self):\n",
    "        obs = self.game.reset()\n",
    "        obs = self.preprocess(obs)\n",
    "        self.previous_frame = obs\n",
    "        #vida enemiga delta\n",
    "        self.enemy_health = 0\n",
    "        #vida nuestra delta\n",
    "        self.health = 0\n",
    "        return obs\n",
    "    def preprocess(self, observation):\n",
    "        gray = cv2.cvtColor(observation, cv2.COLOR_BGR2GRAY)\n",
    "        resize = cv2.resize(gray, (84,84), interpolation = cv2.INTER_CUBIC)\n",
    "        channels = np.reshape(resize, (84, 84, 1))\n",
    "        return channels\n",
    "    def close(self):\n",
    "        self.game.close()"
   ]
  },
  {
   "cell_type": "code",
   "execution_count": 12,
   "id": "458e9a5e",
   "metadata": {},
   "outputs": [],
   "source": [
    "env = MK()"
   ]
  },
  {
   "cell_type": "code",
   "execution_count": 13,
   "id": "dfdbafd7",
   "metadata": {},
   "outputs": [
    {
     "data": {
      "text/plain": [
       "Box([[[0]\n",
       "  [0]\n",
       "  [0]\n",
       "  ...\n",
       "  [0]\n",
       "  [0]\n",
       "  [0]]\n",
       "\n",
       " [[0]\n",
       "  [0]\n",
       "  [0]\n",
       "  ...\n",
       "  [0]\n",
       "  [0]\n",
       "  [0]]\n",
       "\n",
       " [[0]\n",
       "  [0]\n",
       "  [0]\n",
       "  ...\n",
       "  [0]\n",
       "  [0]\n",
       "  [0]]\n",
       "\n",
       " ...\n",
       "\n",
       " [[0]\n",
       "  [0]\n",
       "  [0]\n",
       "  ...\n",
       "  [0]\n",
       "  [0]\n",
       "  [0]]\n",
       "\n",
       " [[0]\n",
       "  [0]\n",
       "  [0]\n",
       "  ...\n",
       "  [0]\n",
       "  [0]\n",
       "  [0]]\n",
       "\n",
       " [[0]\n",
       "  [0]\n",
       "  [0]\n",
       "  ...\n",
       "  [0]\n",
       "  [0]\n",
       "  [0]]], [[[255]\n",
       "  [255]\n",
       "  [255]\n",
       "  ...\n",
       "  [255]\n",
       "  [255]\n",
       "  [255]]\n",
       "\n",
       " [[255]\n",
       "  [255]\n",
       "  [255]\n",
       "  ...\n",
       "  [255]\n",
       "  [255]\n",
       "  [255]]\n",
       "\n",
       " [[255]\n",
       "  [255]\n",
       "  [255]\n",
       "  ...\n",
       "  [255]\n",
       "  [255]\n",
       "  [255]]\n",
       "\n",
       " ...\n",
       "\n",
       " [[255]\n",
       "  [255]\n",
       "  [255]\n",
       "  ...\n",
       "  [255]\n",
       "  [255]\n",
       "  [255]]\n",
       "\n",
       " [[255]\n",
       "  [255]\n",
       "  [255]\n",
       "  ...\n",
       "  [255]\n",
       "  [255]\n",
       "  [255]]\n",
       "\n",
       " [[255]\n",
       "  [255]\n",
       "  [255]\n",
       "  ...\n",
       "  [255]\n",
       "  [255]\n",
       "  [255]]], (84, 84, 1), uint8)"
      ]
     },
     "execution_count": 13,
     "metadata": {},
     "output_type": "execute_result"
    }
   ],
   "source": [
    "env.observation_space"
   ]
  },
  {
   "cell_type": "code",
   "execution_count": 14,
   "id": "aba7703c",
   "metadata": {},
   "outputs": [
    {
     "data": {
      "text/plain": [
       "MultiBinary(12)"
      ]
     },
     "execution_count": 14,
     "metadata": {},
     "output_type": "execute_result"
    }
   ],
   "source": [
    "env.action_space"
   ]
  },
  {
   "cell_type": "code",
   "execution_count": null,
   "id": "1e2ec6c8",
   "metadata": {},
   "outputs": [],
   "source": [
    "# Reset game to starting state\n",
    "obs = env.reset()\n",
    "# Set flag to flase\n",
    "done = False\n",
    "for game in range(1): \n",
    "    while not done: \n",
    "        if done: \n",
    "            obs = env.reset()\n",
    "        env.render()\n",
    "        obs, reward, done, info = env.step(env.action_space.sample())\n",
    "        time.sleep(0.01)\n",
    "        print(reward)\n",
    "        #if reward > 0: \n",
    "            #print(reward)"
   ]
  },
  {
   "cell_type": "code",
   "execution_count": 10,
   "id": "32abe3b6",
   "metadata": {},
   "outputs": [
    {
     "data": {
      "text/plain": [
       "<matplotlib.image.AxesImage at 0x252685b4af0>"
      ]
     },
     "execution_count": 10,
     "metadata": {},
     "output_type": "execute_result"
    },
    {
     "data": {
      "image/png": "[encoded data removed]",
      "text/plain": [
       "<Figure size 432x288 with 1 Axes>"
      ]
     },
     "metadata": {
      "needs_background": "light"
     },
     "output_type": "display_data"
    }
   ],
   "source": [
    "plt.imshow(obs)"
   ]
  },
  {
   "cell_type": "code",
   "execution_count": 11,
   "id": "a6bcc8d1",
   "metadata": {},
   "outputs": [],
   "source": [
    "env.close()"
   ]
  },
  {
   "cell_type": "code",
   "execution_count": null,
   "id": "8d486e80",
   "metadata": {},
   "outputs": [],
   "source": []
  }
 ],
 "metadata": {
  "kernelspec": {
   "display_name": "Python 3",
   "language": "python",
   "name": "python3"
  },
  "language_info": {
   "codemirror_mode": {
    "name": "ipython",
    "version": 3
   },
   "file_extension": ".py",
   "mimetype": "text/x-python",
   "name": "python",
   "nbconvert_exporter": "python",
   "pygments_lexer": "ipython3",
   "version": "3.8.8"
  }
 },
 "nbformat": 4,
 "nbformat_minor": 5
}
